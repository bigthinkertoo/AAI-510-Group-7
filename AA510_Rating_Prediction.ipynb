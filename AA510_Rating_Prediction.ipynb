{
 "cells": [
  {
   "cell_type": "markdown",
   "metadata": {},
   "source": [
    "# Rating Prediction Project - Amazon Reviews\n",
    "\n",
    "Fine-tune BERT to predict star ratings (1-5) based on combined review text and summary."
   ]
  },
  {
   "cell_type": "markdown",
   "metadata": {},
   "source": [
    "**GOAL: PREDICT THE RATING(1-5 STARS) FROM REVIEW TEXT**"
   ]
  },
  {
   "cell_type": "code",
   "execution_count": 203,
   "metadata": {},
   "outputs": [],
   "source": [
    "# Install necessary packages\n",
    "#!pip install transformers datasets scikit-learn pandas torch tqdm matplotlib"
   ]
  },
  {
   "cell_type": "markdown",
   "metadata": {},
   "source": [
    "**1. Data Preparation**\n",
    "Gather your review_text and rating pairs.  \n",
    "Split into train / validation / test sets.  \n",
    "\n",
    "**2. Text Preprocessing**\n",
    "Options:  \n",
    "Basic: lowercasing, punctuation removal, stopwords removal, lemmatization  \n",
    "Or use pre-trained models that handle this internally (e.g. transformers).  \n",
    "\n",
    "\n",
    "**3: Text Representation (Vectorization)**  \n",
    "Several options:  \n",
    "**a) TF-Ireviews_df + regression model:**  \n",
    "    Use Tfireviews_dfVectorizer to convert text → feature vectors.  \n",
    "    Feed into regression model (e.g. LinearRegression, Ridge, SVR, RandomForestRegressor).  \n",
    "**b) Word embeddings + regression model**  \n",
    "    Use Word2Vec, GloVe, or sentence embeddings (e.g. Sentence-BERT) to convert text → vector.  \n",
    "    Feed into regressor.  \n",
    "**c) End-to-end transformer model (best results)**    \n",
    "    Fine-tune BERT, DistilBERT, or RoBERTa to directly predict the rating from text.  \n",
    "    Implement with HuggingFace Transformers.  \n",
    "\n",
    "**4: Model Training**  \n",
    "    Loss: Mean Squared Error (MSE) or Mean Absolute Error (MAE).  \n",
    "    Evaluation: R², RMSE, MAE, etc.  "
   ]
  },
  {
   "cell_type": "code",
   "execution_count": 63,
   "metadata": {},
   "outputs": [],
   "source": [
    "# Imports\n",
    "import pandas as pd\n",
    "import numpy as np\n",
    "import torch\n",
    "from torch.utils.data import DataLoader, Dataset\n",
    "#from transformers import BertTokenizer, BertForSequenceClassification, AdamW\n",
    "from transformers import BertTokenizer, BertForSequenceClassification\n",
    "from sklearn.model_selection import train_test_split\n",
    "from tqdm import tqdm\n",
    "from sklearn.metrics import classification_report, accuracy_score\n",
    "import matplotlib.pyplot as plt"
   ]
  },
  {
   "cell_type": "code",
   "execution_count": 65,
   "metadata": {},
   "outputs": [
    {
     "data": {
      "text/html": [
       "<div>\n",
       "<style scoped>\n",
       "    .dataframe tbody tr th:only-of-type {\n",
       "        vertical-align: middle;\n",
       "    }\n",
       "\n",
       "    .dataframe tbody tr th {\n",
       "        vertical-align: top;\n",
       "    }\n",
       "\n",
       "    .dataframe thead th {\n",
       "        text-align: right;\n",
       "    }\n",
       "</style>\n",
       "<table border=\"1\" class=\"dataframe\">\n",
       "  <thead>\n",
       "    <tr style=\"text-align: right;\">\n",
       "      <th></th>\n",
       "      <th>reviewerID</th>\n",
       "      <th>asin</th>\n",
       "      <th>reviewerName</th>\n",
       "      <th>helpful</th>\n",
       "      <th>reviewText</th>\n",
       "      <th>overall</th>\n",
       "      <th>summary</th>\n",
       "      <th>unixReviewTime</th>\n",
       "      <th>reviewTime</th>\n",
       "      <th>day_diff</th>\n",
       "      <th>helpful_yes</th>\n",
       "      <th>total_vote</th>\n",
       "    </tr>\n",
       "  </thead>\n",
       "  <tbody>\n",
       "    <tr>\n",
       "      <th>0</th>\n",
       "      <td>A3SBTW3WS4IQSN</td>\n",
       "      <td>B007WTAJTO</td>\n",
       "      <td>NaN</td>\n",
       "      <td>[0, 0]</td>\n",
       "      <td>No issues.</td>\n",
       "      <td>4.0</td>\n",
       "      <td>Four Stars</td>\n",
       "      <td>1406073600</td>\n",
       "      <td>2014-07-23</td>\n",
       "      <td>138</td>\n",
       "      <td>0</td>\n",
       "      <td>0</td>\n",
       "    </tr>\n",
       "    <tr>\n",
       "      <th>1</th>\n",
       "      <td>A18K1ODH1I2MVB</td>\n",
       "      <td>B007WTAJTO</td>\n",
       "      <td>0mie</td>\n",
       "      <td>[0, 0]</td>\n",
       "      <td>Purchased this for my device, it worked as adv...</td>\n",
       "      <td>5.0</td>\n",
       "      <td>MOAR SPACE!!!</td>\n",
       "      <td>1382659200</td>\n",
       "      <td>2013-10-25</td>\n",
       "      <td>409</td>\n",
       "      <td>0</td>\n",
       "      <td>0</td>\n",
       "    </tr>\n",
       "    <tr>\n",
       "      <th>2</th>\n",
       "      <td>A2FII3I2MBMUIA</td>\n",
       "      <td>B007WTAJTO</td>\n",
       "      <td>1K3</td>\n",
       "      <td>[0, 0]</td>\n",
       "      <td>it works as expected. I should have sprung for...</td>\n",
       "      <td>4.0</td>\n",
       "      <td>nothing to really say....</td>\n",
       "      <td>1356220800</td>\n",
       "      <td>2012-12-23</td>\n",
       "      <td>715</td>\n",
       "      <td>0</td>\n",
       "      <td>0</td>\n",
       "    </tr>\n",
       "    <tr>\n",
       "      <th>3</th>\n",
       "      <td>A3H99DFEG68SR</td>\n",
       "      <td>B007WTAJTO</td>\n",
       "      <td>1m2</td>\n",
       "      <td>[0, 0]</td>\n",
       "      <td>This think has worked out great.Had a diff. br...</td>\n",
       "      <td>5.0</td>\n",
       "      <td>Great buy at this price!!!  *** UPDATE</td>\n",
       "      <td>1384992000</td>\n",
       "      <td>2013-11-21</td>\n",
       "      <td>382</td>\n",
       "      <td>0</td>\n",
       "      <td>0</td>\n",
       "    </tr>\n",
       "    <tr>\n",
       "      <th>4</th>\n",
       "      <td>A375ZM4U047O79</td>\n",
       "      <td>B007WTAJTO</td>\n",
       "      <td>2&amp;amp;1/2Men</td>\n",
       "      <td>[0, 0]</td>\n",
       "      <td>Bought it with Retail Packaging, arrived legit...</td>\n",
       "      <td>5.0</td>\n",
       "      <td>best deal around</td>\n",
       "      <td>1373673600</td>\n",
       "      <td>2013-07-13</td>\n",
       "      <td>513</td>\n",
       "      <td>0</td>\n",
       "      <td>0</td>\n",
       "    </tr>\n",
       "  </tbody>\n",
       "</table>\n",
       "</div>"
      ],
      "text/plain": [
       "       reviewerID        asin  reviewerName helpful  \\\n",
       "0  A3SBTW3WS4IQSN  B007WTAJTO           NaN  [0, 0]   \n",
       "1  A18K1ODH1I2MVB  B007WTAJTO          0mie  [0, 0]   \n",
       "2  A2FII3I2MBMUIA  B007WTAJTO           1K3  [0, 0]   \n",
       "3   A3H99DFEG68SR  B007WTAJTO           1m2  [0, 0]   \n",
       "4  A375ZM4U047O79  B007WTAJTO  2&amp;1/2Men  [0, 0]   \n",
       "\n",
       "                                          reviewText  overall  \\\n",
       "0                                         No issues.      4.0   \n",
       "1  Purchased this for my device, it worked as adv...      5.0   \n",
       "2  it works as expected. I should have sprung for...      4.0   \n",
       "3  This think has worked out great.Had a diff. br...      5.0   \n",
       "4  Bought it with Retail Packaging, arrived legit...      5.0   \n",
       "\n",
       "                                  summary  unixReviewTime  reviewTime  \\\n",
       "0                              Four Stars      1406073600  2014-07-23   \n",
       "1                           MOAR SPACE!!!      1382659200  2013-10-25   \n",
       "2               nothing to really say....      1356220800  2012-12-23   \n",
       "3  Great buy at this price!!!  *** UPDATE      1384992000  2013-11-21   \n",
       "4                        best deal around      1373673600  2013-07-13   \n",
       "\n",
       "   day_diff  helpful_yes  total_vote  \n",
       "0       138            0           0  \n",
       "1       409            0           0  \n",
       "2       715            0           0  \n",
       "3       382            0           0  \n",
       "4       513            0           0  "
      ]
     },
     "execution_count": 65,
     "metadata": {},
     "output_type": "execute_result"
    }
   ],
   "source": [
    "file_path = \"/Users/roshan_thakur/Desktop/MachineLearning/ML-Project/Datasets/Amazon-Reviews/amazon_review.csv\"\n",
    "reviews_df = pd.read_csv(file_path,encoding=\"latin\")\n",
    "reviews_df.head(5)"
   ]
  },
  {
   "cell_type": "code",
   "execution_count": 67,
   "metadata": {},
   "outputs": [
    {
     "data": {
      "text/html": [
       "<div>\n",
       "<style scoped>\n",
       "    .dataframe tbody tr th:only-of-type {\n",
       "        vertical-align: middle;\n",
       "    }\n",
       "\n",
       "    .dataframe tbody tr th {\n",
       "        vertical-align: top;\n",
       "    }\n",
       "\n",
       "    .dataframe thead th {\n",
       "        text-align: right;\n",
       "    }\n",
       "</style>\n",
       "<table border=\"1\" class=\"dataframe\">\n",
       "  <thead>\n",
       "    <tr style=\"text-align: right;\">\n",
       "      <th></th>\n",
       "      <th>reviewerID</th>\n",
       "      <th>asin</th>\n",
       "      <th>reviewerName</th>\n",
       "      <th>helpful</th>\n",
       "      <th>reviewText</th>\n",
       "      <th>rating</th>\n",
       "      <th>summary</th>\n",
       "      <th>unixReviewTime</th>\n",
       "      <th>reviewTime</th>\n",
       "      <th>day_diff</th>\n",
       "      <th>helpful_yes</th>\n",
       "      <th>total_vote</th>\n",
       "    </tr>\n",
       "  </thead>\n",
       "  <tbody>\n",
       "    <tr>\n",
       "      <th>0</th>\n",
       "      <td>A3SBTW3WS4IQSN</td>\n",
       "      <td>B007WTAJTO</td>\n",
       "      <td>NaN</td>\n",
       "      <td>[0, 0]</td>\n",
       "      <td>No issues.</td>\n",
       "      <td>4.0</td>\n",
       "      <td>Four Stars</td>\n",
       "      <td>1406073600</td>\n",
       "      <td>2014-07-23</td>\n",
       "      <td>138</td>\n",
       "      <td>0</td>\n",
       "      <td>0</td>\n",
       "    </tr>\n",
       "    <tr>\n",
       "      <th>1</th>\n",
       "      <td>A18K1ODH1I2MVB</td>\n",
       "      <td>B007WTAJTO</td>\n",
       "      <td>0mie</td>\n",
       "      <td>[0, 0]</td>\n",
       "      <td>Purchased this for my device, it worked as adv...</td>\n",
       "      <td>5.0</td>\n",
       "      <td>MOAR SPACE!!!</td>\n",
       "      <td>1382659200</td>\n",
       "      <td>2013-10-25</td>\n",
       "      <td>409</td>\n",
       "      <td>0</td>\n",
       "      <td>0</td>\n",
       "    </tr>\n",
       "    <tr>\n",
       "      <th>2</th>\n",
       "      <td>A2FII3I2MBMUIA</td>\n",
       "      <td>B007WTAJTO</td>\n",
       "      <td>1K3</td>\n",
       "      <td>[0, 0]</td>\n",
       "      <td>it works as expected. I should have sprung for...</td>\n",
       "      <td>4.0</td>\n",
       "      <td>nothing to really say....</td>\n",
       "      <td>1356220800</td>\n",
       "      <td>2012-12-23</td>\n",
       "      <td>715</td>\n",
       "      <td>0</td>\n",
       "      <td>0</td>\n",
       "    </tr>\n",
       "    <tr>\n",
       "      <th>3</th>\n",
       "      <td>A3H99DFEG68SR</td>\n",
       "      <td>B007WTAJTO</td>\n",
       "      <td>1m2</td>\n",
       "      <td>[0, 0]</td>\n",
       "      <td>This think has worked out great.Had a diff. br...</td>\n",
       "      <td>5.0</td>\n",
       "      <td>Great buy at this price!!!  *** UPDATE</td>\n",
       "      <td>1384992000</td>\n",
       "      <td>2013-11-21</td>\n",
       "      <td>382</td>\n",
       "      <td>0</td>\n",
       "      <td>0</td>\n",
       "    </tr>\n",
       "    <tr>\n",
       "      <th>4</th>\n",
       "      <td>A375ZM4U047O79</td>\n",
       "      <td>B007WTAJTO</td>\n",
       "      <td>2&amp;amp;1/2Men</td>\n",
       "      <td>[0, 0]</td>\n",
       "      <td>Bought it with Retail Packaging, arrived legit...</td>\n",
       "      <td>5.0</td>\n",
       "      <td>best deal around</td>\n",
       "      <td>1373673600</td>\n",
       "      <td>2013-07-13</td>\n",
       "      <td>513</td>\n",
       "      <td>0</td>\n",
       "      <td>0</td>\n",
       "    </tr>\n",
       "  </tbody>\n",
       "</table>\n",
       "</div>"
      ],
      "text/plain": [
       "       reviewerID        asin  reviewerName helpful  \\\n",
       "0  A3SBTW3WS4IQSN  B007WTAJTO           NaN  [0, 0]   \n",
       "1  A18K1ODH1I2MVB  B007WTAJTO          0mie  [0, 0]   \n",
       "2  A2FII3I2MBMUIA  B007WTAJTO           1K3  [0, 0]   \n",
       "3   A3H99DFEG68SR  B007WTAJTO           1m2  [0, 0]   \n",
       "4  A375ZM4U047O79  B007WTAJTO  2&amp;1/2Men  [0, 0]   \n",
       "\n",
       "                                          reviewText  rating  \\\n",
       "0                                         No issues.     4.0   \n",
       "1  Purchased this for my device, it worked as adv...     5.0   \n",
       "2  it works as expected. I should have sprung for...     4.0   \n",
       "3  This think has worked out great.Had a diff. br...     5.0   \n",
       "4  Bought it with Retail Packaging, arrived legit...     5.0   \n",
       "\n",
       "                                  summary  unixReviewTime  reviewTime  \\\n",
       "0                              Four Stars      1406073600  2014-07-23   \n",
       "1                           MOAR SPACE!!!      1382659200  2013-10-25   \n",
       "2               nothing to really say....      1356220800  2012-12-23   \n",
       "3  Great buy at this price!!!  *** UPDATE      1384992000  2013-11-21   \n",
       "4                        best deal around      1373673600  2013-07-13   \n",
       "\n",
       "   day_diff  helpful_yes  total_vote  \n",
       "0       138            0           0  \n",
       "1       409            0           0  \n",
       "2       715            0           0  \n",
       "3       382            0           0  \n",
       "4       513            0           0  "
      ]
     },
     "execution_count": 67,
     "metadata": {},
     "output_type": "execute_result"
    }
   ],
   "source": [
    "#Change column name from overall to rating for clarity\n",
    "reviews_df = reviews_df.rename(columns={'overall': 'rating'})\n",
    "\n",
    "reviews_df.head(5)"
   ]
  },
  {
   "cell_type": "code",
   "execution_count": 69,
   "metadata": {},
   "outputs": [],
   "source": [
    "# Combine reviewText and summary\n",
    "reviews_df['summary'] = reviews_df['summary'].fillna('')\n",
    "reviews_df['combined_text_summary'] = reviews_df['summary'] + ' ' + reviews_df['reviewText']\n",
    "\n",
    "# Use combined_text and overall\n",
    "reviews_df = reviews_df[['combined_text_summary', 'rating']].dropna()\n",
    "reviews_df['rating'] = reviews_df['rating'].astype(int)"
   ]
  },
  {
   "cell_type": "code",
   "execution_count": 75,
   "metadata": {},
   "outputs": [
    {
     "data": {
      "text/html": [
       "<div>\n",
       "<style scoped>\n",
       "    .dataframe tbody tr th:only-of-type {\n",
       "        vertical-align: middle;\n",
       "    }\n",
       "\n",
       "    .dataframe tbody tr th {\n",
       "        vertical-align: top;\n",
       "    }\n",
       "\n",
       "    .dataframe thead th {\n",
       "        text-align: right;\n",
       "    }\n",
       "</style>\n",
       "<table border=\"1\" class=\"dataframe\">\n",
       "  <thead>\n",
       "    <tr style=\"text-align: right;\">\n",
       "      <th></th>\n",
       "      <th>combined_text_summary</th>\n",
       "      <th>rating</th>\n",
       "    </tr>\n",
       "  </thead>\n",
       "  <tbody>\n",
       "    <tr>\n",
       "      <th>0</th>\n",
       "      <td>Four Stars No issues.</td>\n",
       "      <td>4</td>\n",
       "    </tr>\n",
       "    <tr>\n",
       "      <th>1</th>\n",
       "      <td>MOAR SPACE!!! Purchased this for my device, it...</td>\n",
       "      <td>5</td>\n",
       "    </tr>\n",
       "    <tr>\n",
       "      <th>2</th>\n",
       "      <td>nothing to really say.... it works as expected...</td>\n",
       "      <td>4</td>\n",
       "    </tr>\n",
       "    <tr>\n",
       "      <th>3</th>\n",
       "      <td>Great buy at this price!!!  *** UPDATE This th...</td>\n",
       "      <td>5</td>\n",
       "    </tr>\n",
       "    <tr>\n",
       "      <th>4</th>\n",
       "      <td>best deal around Bought it with Retail Packagi...</td>\n",
       "      <td>5</td>\n",
       "    </tr>\n",
       "  </tbody>\n",
       "</table>\n",
       "</div>"
      ],
      "text/plain": [
       "                               combined_text_summary  rating\n",
       "0                              Four Stars No issues.       4\n",
       "1  MOAR SPACE!!! Purchased this for my device, it...       5\n",
       "2  nothing to really say.... it works as expected...       4\n",
       "3  Great buy at this price!!!  *** UPDATE This th...       5\n",
       "4  best deal around Bought it with Retail Packagi...       5"
      ]
     },
     "execution_count": 75,
     "metadata": {},
     "output_type": "execute_result"
    }
   ],
   "source": [
    "reviews_df.head(5)"
   ]
  },
  {
   "cell_type": "code",
   "execution_count": 77,
   "metadata": {},
   "outputs": [
    {
     "data": {
      "image/png": "[encoded data removed]",
      "text/plain": [
       "<Figure size 640x480 with 1 Axes>"
      ]
     },
     "metadata": {},
     "output_type": "display_data"
    }
   ],
   "source": [
    "# Plot rating distribution\n",
    "# sort_index() ensures ratings appear in order (1, 2, 3, 4, 5)\n",
    "reviews_df['rating'].value_counts().sort_index().plot(kind='bar')\n",
    "plt.xlabel('Rating')\n",
    "plt.ylabel('Number of Reviews')\n",
    "plt.title('Rating Distribution')\n",
    "plt.grid(True)\n",
    "plt.show()"
   ]
  },
  {
   "cell_type": "markdown",
   "metadata": {},
   "source": [
    "The plot diagram reveals the counts of how many reviews exist for each rating. A balanced review dataset will have evenly distributed ratings, while a skewed plot indicates imbalance. Polarization, common in product reviews, shows many 5-star and 1-star ratings but few middle ratings."
   ]
  },
  {
   "cell_type": "markdown",
   "metadata": {},
   "source": [
    "**To confirm if we have data imbalance, let's calculate the exact imbalance % in the dataset.**"
   ]
  },
  {
   "cell_type": "code",
   "execution_count": 79,
   "metadata": {},
   "outputs": [
    {
     "name": "stdout",
     "output_type": "stream",
     "text": [
      "Rating distribution (percentage):\n",
      "Rating 1: 4.97% (244 reviews)\n",
      "Rating 2: 1.63% (80 reviews)\n",
      "Rating 3: 2.89% (142 reviews)\n",
      "Rating 4: 10.72% (527 reviews)\n",
      "Rating 5: 79.79% (3921 reviews)\n"
     ]
    }
   ],
   "source": [
    "# Count total reviews\n",
    "total_reviews = len(reviews_df)\n",
    "\n",
    "# Count reviews per rating\n",
    "rating_counts = reviews_df['rating'].value_counts().sort_index()\n",
    "\n",
    "# Calculate % per rating\n",
    "rating_percentages = (rating_counts / total_reviews) * 100\n",
    "\n",
    "# Display\n",
    "print(\"Rating distribution (percentage):\")\n",
    "for rating, pct in rating_percentages.items():\n",
    "    print(f\"Rating {rating}: {pct:.2f}% ({rating_counts[rating]} reviews)\")\n"
   ]
  },
  {
   "cell_type": "markdown",
   "metadata": {},
   "source": [
    "As we can see from the plot diagram and the imbalance %, that ~80% of reviews are 5 stars. Hence we can conclude that the \n",
    "data is **highly imbalanced.** And if we decide to use the data **as-is** to train the model, the model will be strongly biased\n",
    "to predict 5 stars as it has so many examples."
   ]
  },
  {
   "cell_type": "markdown",
   "metadata": {},
   "source": [
    "**For LLMs and NLP models, it is very helpful to see how long the reviews are and if it needs to be truncated.**"
   ]
  },
  {
   "cell_type": "code",
   "execution_count": 91,
   "metadata": {},
   "outputs": [
    {
     "data": {
      "image/png": "[encoded data removed]",
      "text/plain": [
       "<Figure size 1000x800 with 1 Axes>"
      ]
     },
     "metadata": {},
     "output_type": "display_data"
    }
   ],
   "source": [
    "# Compute text length (in characters)\n",
    "reviews_df['text_length'] = reviews_df['combined_text_summary'].apply(len)\n",
    "\n",
    "# Plot histogram of text lengths\n",
    "plt.figure(figsize=(10,8))\n",
    "plt.hist(reviews_df['text_length'], bins = 10, color='skyblue', edgecolor='black')\n",
    "plt.xlabel('Text Length (number of characters)')\n",
    "plt.ylabel('Number of Reviews')\n",
    "plt.title('Distribution of Review Text Length')\n",
    "\n",
    "\n",
    "# Add custom tick marks\n",
    "import numpy as np\n",
    "plt.xticks(np.arange(0, reviews_df['text_length'].max() + 1, 1000))\n",
    "plt.yticks(np.arange(0, plt.ylim()[1] + 1, 1000))\n",
    "\n",
    "plt.grid(True)\n",
    "plt.show()\n"
   ]
  },
  {
   "cell_type": "markdown",
   "metadata": {},
   "source": [
    "The plot above shows that:\n",
    "\n",
    "80-90% of reviews are under 500 characters which is very short.  \n",
    "There is a long tail of long reviews which are rare but present.  \n",
    "The distribution is highly skewed.  "
   ]
  },
  {
   "cell_type": "markdown",
   "metadata": {},
   "source": [
    "**BALANCE THE DATASET**"
   ]
  },
  {
   "cell_type": "code",
   "execution_count": 97,
   "metadata": {},
   "outputs": [
    {
     "name": "stdout",
     "output_type": "stream",
     "text": [
      "Original rating counts:\n",
      "1     244\n",
      "2      80\n",
      "3     142\n",
      "4     527\n",
      "5    3921\n",
      "Name: rating, dtype: int64\n",
      "\n",
      "Target samples per class (smallest class): 80\n",
      "\n",
      "Balanced rating counts:\n",
      "1    80\n",
      "2    80\n",
      "3    80\n",
      "4    80\n",
      "5    80\n",
      "Name: rating, dtype: int64\n"
     ]
    },
    {
     "data": {
      "image/png": "[encoded data removed]",
      "text/plain": [
       "<Figure size 640x480 with 1 Axes>"
      ]
     },
     "metadata": {},
     "output_type": "display_data"
    }
   ],
   "source": [
    "# Step 1: Compute current counts\n",
    "rating_counts = reviews_df['rating'].value_counts().sort_index()\n",
    "print(\"Original rating counts:\")\n",
    "print(rating_counts)\n",
    "\n",
    "# Step 2: Determine minimum class size\n",
    "min_count = rating_counts.min()\n",
    "print(f\"\\nTarget samples per class (smallest class): {min_count}\")\n",
    "\n",
    "# Step 3: Undersample each class to min_count\n",
    "#Create a balanced dataset by ensuring each rating category has the same number of samples\n",
    "balanced_df = reviews_df.groupby('rating').apply(lambda x: x.sample(min_count, random_state=42)).reset_index(drop=True)\n",
    "\n",
    "# Step 4: Check balanced counts\n",
    "balanced_counts = balanced_df['rating'].value_counts().sort_index()\n",
    "print(\"\\nBalanced rating counts:\")\n",
    "print(balanced_counts)\n",
    "\n",
    "# Step 5: Plot balanced distribution\n",
    "balanced_counts.plot(kind='bar', color='lightgreen', edgecolor='black')\n",
    "plt.xlabel('Rating')\n",
    "plt.ylabel('Number of Reviews (Balanced)')\n",
    "plt.title('Balanced Rating Distribution')\n",
    "plt.grid(True)\n",
    "plt.show()"
   ]
  },
  {
   "cell_type": "markdown",
   "metadata": {},
   "source": [
    "**MODELING PIPELINE**"
   ]
  },
  {
   "cell_type": "code",
   "execution_count": 99,
   "metadata": {},
   "outputs": [],
   "source": [
    "# Import necessary libraries\n",
    "from sklearn.model_selection import train_test_split\n",
    "from sklearn.feature_extraction.text import TfidfVectorizer\n",
    "from sklearn.linear_model import Ridge\n",
    "from sklearn.metrics import mean_squared_error, mean_absolute_error, r2_score\n",
    "import numpy as np\n",
    "import matplotlib.pyplot as plt\n",
    "\n",
    "# Split the balanced data\n",
    "X_train, X_test, y_train, y_test = train_test_split(\n",
    "    balanced_df['combined_text_summary'],\n",
    "    balanced_df['rating'],\n",
    "    test_size=0.2,\n",
    "    random_state=42\n",
    ")"
   ]
  },
  {
   "cell_type": "markdown",
   "metadata": {},
   "source": [
    "**Option A — TF-IDF + Ridge Regression (Baseline)**"
   ]
  },
  {
   "cell_type": "code",
   "execution_count": 112,
   "metadata": {},
   "outputs": [
    {
     "name": "stdout",
     "output_type": "stream",
     "text": [
      "['000' '10' '1080p' '12' '16' '16gb' '20' '2013' '30' '30mb' '32' '32gb'\n",
      " '34' '4kb' '59' '64' '64gb' '8gb' 'able' 'about' 'actually' 'adapter'\n",
      " 'add' 'advertised' 'after' 'again' 'ago' 'all' 'almost' 'already' 'also'\n",
      " 'always' 'am' 'amazon' 'amount' 'an' 'and' 'android' 'another' 'any'\n",
      " 'anything' 'app' 'are' 'around' 'as' 'at' 'average' 'away' 'back' 'bad'\n",
      " 'be' 'because' 'been' 'before' 'being' 'best' 'better' 'between' 'big'\n",
      " 'bit' 'black' 'both' 'bought' 'box' 'brand' 'built' 'but' 'buy' 'buying'\n",
      " 'by' 'came' 'camera' 'cameras' 'can' 'cannot' 'capacity' 'card' 'cards'\n",
      " 'cell' 'cheap' 'check' 'chip' 'class' 'compatible' 'complaints'\n",
      " 'completely' 'computer' 'connected' 'copy' 'corrupted' 'cost' 'could'\n",
      " 'couldn' 'couple' 'customer' 'da' 'damaged' 'data' 'day' 'days' 'dead'\n",
      " 'deal' 'december' 'decent' 'decided' 'defective' 'definitely' 'delete'\n",
      " 'desktop' 'device' 'devices' 'did' 'didn' 'died' 'difference' 'different'\n",
      " 'disappointed' 'disk' 'do' 'does' 'doesn' 'doing' 'don' 'done' 'down'\n",
      " 'drive' 'each' 'edition' 'either' 'else' 'enough' 'error' 'errors' 'even'\n",
      " 'ever' 'every' 'everything' 'exactly' 'excellent' 'expect' 'expected'\n",
      " 'experience' 'external' 'extra' 'fail' 'failed' 'failure' 'far' 'fast'\n",
      " 'faster' 'fat32' 'fault' 'fer' 'few' 'file' 'files' 'finally' 'find'\n",
      " 'fine' 'first' 'fit' 'fix' 'flash' 'for' 'format' 'formatted'\n",
      " 'formatting' 'found' 'four' 'free' 'from' 'full' 'galaxy' 'gave' 'gb'\n",
      " 'get' 'gets' 'getting' 'give' 'giving' 'go' 'going' 'gone' 'good' 'gopro'\n",
      " 'got' 'great' 'gs3' 'guess' 'had' 'half' 'happened' 'happy' 'hard' 'has'\n",
      " 'have' 'haven' 'having' 'hd' 'here' 'hero' 'high' 'higher' 'hours' 'how'\n",
      " 'however' 'if' 'ii' 'important' 'in' 'information' 'inserted' 'installed'\n",
      " 'instead' 'into' 'iops' 'is' 'issue' 'issues' 'it' 'item' 'items' 'its'\n",
      " 'itself' 'job' 'junk' 'just' 'keep' 'kept' 'kingston' 'know' 'laptop'\n",
      " 'large' 'last' 'least' 'less' 'like' 'little' 'll' 'long' 'longer'\n",
      " 'looking' 'lost' 'lot' 'love' 'luck' 'made' 'make' 'makes' 'many' 'may'\n",
      " 'maybe' 'mb' 'me' 'memory' 'micro' 'microsd' 'microsdhc' 'might' 'mobile'\n",
      " 'money' 'month' 'months' 'more' 'most' 'movies' 'much' 'music' 'must'\n",
      " 'my' 'name' 'need' 'needed' 'never' 'new' 'nice' 'no' 'not' 'note'\n",
      " 'nothing' 'now' 'of' 'off' 'ok' 'old' 'on' 'once' 'one' 'online' 'only'\n",
      " 'onto' 'or' 'order' 'ordered' 'other' 'others' 'out' 'over' 'package'\n",
      " 'packaging' 'pc' 'people' 'perfectly' 'performance' 'phone' 'phones'\n",
      " 'photos' 'pictures' 'play' 'point' 'pretty' 'price' 'pro' 'probably'\n",
      " 'problem' 'problems' 'product' 'products' 'purchase' 'purchased' 'put'\n",
      " 'qd' 'quality' 'quick' 'quickly' 'quite' 'random' 'randomly' 'rate' 're'\n",
      " 'read' 'reader' 'reading' 'reads' 'real' 'really' 'reason' 'received'\n",
      " 'recognize' 'recognized' 'recommend' 'recording' 'reformat' 'reformatted'\n",
      " 'refund' 'reliable' 'removed' 'replaced' 'replacement' 'reported'\n",
      " 'return' 'returned' 'review' 'reviews' 'right' 'rma' 's3' 's4' 'said'\n",
      " 'sale' 'same' 'samsung' 'sandisk' 'say' 'saying' 'says' 'sd' 'sdhc' 'sec'\n",
      " 'second' 'see' 'seem' 'seemed' 'seems' 'send' 'sent' 'service' 'several'\n",
      " 'shipped' 'shipping' 'should' 'show' 'showed' 'simply' 'since' 'size'\n",
      " 'slow' 'slower' 'small' 'smart' 'smartphone' 'so' 'some' 'something'\n",
      " 'space' 'speed' 'speeds' 'star' 'stars' 'started' 'still' 'stopped'\n",
      " 'storage' 'store' 'stored' 'stuck' 'stuff' 'such' 'super' 'support'\n",
      " 'supposed' 'sure' 'surface' 'tablet' 'take' 'tell' 'test' 'tested'\n",
      " 'tests' 'than' 'that' 'the' 'their' 'them' 'then' 'there' 'these' 'they'\n",
      " 'thing' 'think' 'this' 'those' 'though' 'thought' 'three' 'through'\n",
      " 'time' 'times' 'tiny' 'to' 'today' 'too' 'took' 'transcend' 'transfer'\n",
      " 'transferred' 'tried' 'trying' 'two' 'uhs' 'ultra' 'unable' 'unless'\n",
      " 'until' 'up' 'update' 'usb' 'use' 'used' 'using' 'usually' 'various' 've'\n",
      " 'version' 'very' 'video' 'videos' 'want' 'was' 'way' 'week' 'weeks'\n",
      " 'well' 'went' 'were' 'what' 'when' 'where' 'which' 'while' 'who' 'why'\n",
      " 'will' 'windows' 'with' 'within' 'without' 'work' 'worked' 'working'\n",
      " 'works' 'would' 'wouldn' 'write' 'writes' 'year' 'years' 'yet' 'you'\n",
      " 'your']\n"
     ]
    }
   ],
   "source": [
    "# Vectorize text using TF-IDF\n",
    "vectorizer = TfidfVectorizer(max_features = 500)  # You can adjust max_features\n",
    "X_train_tfidf = vectorizer.fit_transform(X_train)\n",
    "X_test_tfidf = vectorizer.transform(X_test)\n",
    "\n",
    "print(vectorizer.get_feature_names_out())"
   ]
  },
  {
   "cell_type": "code",
   "execution_count": 114,
   "metadata": {},
   "outputs": [
    {
     "name": "stdout",
     "output_type": "stream",
     "text": [
      "TF-IDF + Ridge Regression Results\n",
      "R²: 0.4088259402797362\n",
      "RMSE: 1.1709629946175442\n",
      "MAE: 0.9909945363207762\n"
     ]
    }
   ],
   "source": [
    "# Train Ridge regression model\n",
    "ridge_model = Ridge(alpha=1.0)\n",
    "ridge_model.fit(X_train_tfidf, y_train)\n",
    "\n",
    "# Predict on test set\n",
    "y_pred = ridge_model.predict(X_test_tfidf)\n",
    "\n",
    "# Evaluate model\n",
    "print(\"TF-IDF + Ridge Regression Results\")\n",
    "print(\"R²:\", r2_score(y_test, y_pred))\n",
    "print(\"RMSE:\", np.sqrt(mean_squared_error(y_test, y_pred)))\n",
    "print(\"MAE:\", mean_absolute_error(y_test, y_pred))"
   ]
  },
  {
   "cell_type": "code",
   "execution_count": 116,
   "metadata": {},
   "outputs": [
    {
     "data": {
      "image/png": "[encoded data removed]",
      "text/plain": [
       "<Figure size 640x480 with 1 Axes>"
      ]
     },
     "metadata": {},
     "output_type": "display_data"
    }
   ],
   "source": [
    "# Plot true vs predicted ratings\n",
    "plt.scatter(y_test, y_pred, alpha=0.6)\n",
    "plt.xlabel(\"True Rating\")\n",
    "plt.ylabel(\"Predicted Rating\")\n",
    "plt.title(\"TF-IDF + Ridge Regression: True vs Predicted Ratings\")\n",
    "plt.grid(True)\n",
    "plt.show()"
   ]
  },
  {
   "cell_type": "markdown",
   "metadata": {},
   "source": [
    "We see a lot of spread vertically for each true rating:\n",
    "\n",
    "Many predictions cluster around ~2 to ~4 for every true rating.The model is not confidently predicting the extreme ratings (1 or 5).\n",
    "\n",
    "For true rating = 1, many predictions are around 2-3 instead of 1.\n",
    "For true rating = 5, many predictions are around 3-4, not exactly 5.\n",
    "\n",
    "**Overall pattern**\n",
    "The model seems to have a regression to the mean behavior:\n",
    "\n",
    "Tends to predict around 2.5 to 4 regardless of input.Less confident in predicting very low or very high ratings.\n",
    "\n",
    "This is common in imbalanced datasets and when using Ridge regression (which penalizes large weights)."
   ]
  },
  {
   "cell_type": "markdown",
   "metadata": {},
   "source": [
    "**TF-IDF WITH PROPER TEXT PREPROCESSING**"
   ]
  },
  {
   "cell_type": "code",
   "execution_count": 148,
   "metadata": {},
   "outputs": [
    {
     "name": "stderr",
     "output_type": "stream",
     "text": [
      "[nltk_data] Downloading package stopwords to\n",
      "[nltk_data]     /Users/roshan_thakur/nltk_data...\n",
      "[nltk_data]   Package stopwords is already up-to-date!\n",
      "[nltk_data] Downloading package wordnet to\n",
      "[nltk_data]     /Users/roshan_thakur/nltk_data...\n",
      "[nltk_data]   Package wordnet is already up-to-date!\n"
     ]
    }
   ],
   "source": [
    "# Install NLTK if needed\n",
    "#!pip install nltk\n",
    "\n",
    "# Import libraries\n",
    "import nltk\n",
    "import re\n",
    "from nltk.corpus import stopwords\n",
    "from nltk.stem import WordNetLemmatizer\n",
    "\n",
    "# Download NLTK resources (first time only)\n",
    "nltk.download('stopwords')\n",
    "nltk.download('wordnet')\n",
    "\n",
    "# Initialize\n",
    "stop_words = set(stopwords.words('english'))\n",
    "lemmatizer = WordNetLemmatizer()\n",
    "\n",
    "# Define preprocessing function\n",
    "def preprocess_text(text):\n",
    "    # Lowercase\n",
    "    text = text.lower()\n",
    "    # Remove punctuation and non-alphabetic characters\n",
    "    text = re.sub(r'[^a-z\\s]', '', text)\n",
    "    # Tokenize\n",
    "    tokens = text.split()\n",
    "    # Remove stopwords and lemmatize\n",
    "    tokens = [lemmatizer.lemmatize(word) for word in tokens if word not in stop_words]\n",
    "    # Join back to string\n",
    "    return ' '.join(tokens)\n"
   ]
  },
  {
   "cell_type": "code",
   "execution_count": 150,
   "metadata": {},
   "outputs": [],
   "source": [
    "# Apply preprocessing to train and test text\n",
    "X_train_processed = X_train.apply(preprocess_text)\n",
    "X_test_processed = X_test.apply(preprocess_text)"
   ]
  },
  {
   "cell_type": "code",
   "execution_count": 164,
   "metadata": {},
   "outputs": [
    {
     "name": "stdout",
     "output_type": "stream",
     "text": [
      "TF-IDF + Ridge (with preprocessing) Results\n",
      "R²: 0.3853981698194764\n",
      "RMSE: 1.193939747171084\n",
      "MAE: 1.0116514929909584\n"
     ]
    }
   ],
   "source": [
    "# Vectorize preprocessed text\n",
    "vectorizer = TfidfVectorizer(max_features=500)\n",
    "X_train_tfidf = vectorizer.fit_transform(X_train_processed)\n",
    "X_test_tfidf = vectorizer.transform(X_test_processed)\n",
    "\n",
    "# Train Ridge regression model\n",
    "ridge_model = Ridge(alpha=1.0)\n",
    "ridge_model.fit(X_train_tfidf, y_train)\n",
    "\n",
    "# Predict on test set\n",
    "y_pred_preprocessed = ridge_model.predict(X_test_tfidf)\n",
    "\n",
    "# Evaluate model\n",
    "print(\"TF-IDF + Ridge (with preprocessing) Results\")\n",
    "print(\"R²:\", r2_score(y_test, y_pred_preprocessed))\n",
    "print(\"RMSE:\", np.sqrt(mean_squared_error(y_test, y_pred_preprocessed)))\n",
    "print(\"MAE:\", mean_absolute_error(y_test, y_pred_preprocessed))"
   ]
  },
  {
   "cell_type": "code",
   "execution_count": 154,
   "metadata": {},
   "outputs": [
    {
     "data": {
      "image/png": "[encoded data removed]",
      "text/plain": [
       "<Figure size 640x480 with 1 Axes>"
      ]
     },
     "metadata": {},
     "output_type": "display_data"
    }
   ],
   "source": [
    "# Plot true vs predicted ratings\n",
    "plt.scatter(y_test, y_pred, alpha=0.6)\n",
    "plt.xlabel(\"True Rating\")\n",
    "plt.ylabel(\"Predicted Rating\")\n",
    "plt.title(\"TF-IDF + Ridge (with preprocessing): True vs Predicted Ratings\")\n",
    "plt.grid(True)\n",
    "plt.show()\n"
   ]
  },
  {
   "cell_type": "markdown",
   "metadata": {},
   "source": [
    "**Sentence-BERT + RandomForestRegressor (Better semantics)**"
   ]
  },
  {
   "cell_type": "code",
   "execution_count": 136,
   "metadata": {},
   "outputs": [],
   "source": [
    "#import sys\n",
    "#!{sys.executable} -m pip install sentence-transformers"
   ]
  },
  {
   "cell_type": "code",
   "execution_count": 134,
   "metadata": {},
   "outputs": [
    {
     "data": {
      "application/vnd.jupyter.widget-view+json": {
       "model_id": "6ffad55e3df1434ab4b961d4483c79fc",
       "version_major": 2,
       "version_minor": 0
      },
      "text/plain": [
       "modules.json:   0%|          | 0.00/349 [00:00<?, ?B/s]"
      ]
     },
     "metadata": {},
     "output_type": "display_data"
    },
    {
     "data": {
      "application/vnd.jupyter.widget-view+json": {
       "model_id": "3b177ee29f1d417e901ffd022b3027d5",
       "version_major": 2,
       "version_minor": 0
      },
      "text/plain": [
       "config_sentence_transformers.json:   0%|          | 0.00/116 [00:00<?, ?B/s]"
      ]
     },
     "metadata": {},
     "output_type": "display_data"
    },
    {
     "data": {
      "application/vnd.jupyter.widget-view+json": {
       "model_id": "56723af33d5f4099817cf8881a189435",
       "version_major": 2,
       "version_minor": 0
      },
      "text/plain": [
       "README.md:   0%|          | 0.00/10.5k [00:00<?, ?B/s]"
      ]
     },
     "metadata": {},
     "output_type": "display_data"
    },
    {
     "data": {
      "application/vnd.jupyter.widget-view+json": {
       "model_id": "4589fd73e8ce4e568db3ee633002ebde",
       "version_major": 2,
       "version_minor": 0
      },
      "text/plain": [
       "sentence_bert_config.json:   0%|          | 0.00/53.0 [00:00<?, ?B/s]"
      ]
     },
     "metadata": {},
     "output_type": "display_data"
    },
    {
     "data": {
      "application/vnd.jupyter.widget-view+json": {
       "model_id": "1112bc6144c446efbc17f32d4512a80a",
       "version_major": 2,
       "version_minor": 0
      },
      "text/plain": [
       "config.json:   0%|          | 0.00/612 [00:00<?, ?B/s]"
      ]
     },
     "metadata": {},
     "output_type": "display_data"
    },
    {
     "data": {
      "application/vnd.jupyter.widget-view+json": {
       "model_id": "f7cdf9946b314f37ab6104adce5884ec",
       "version_major": 2,
       "version_minor": 0
      },
      "text/plain": [
       "model.safetensors:   0%|          | 0.00/90.9M [00:00<?, ?B/s]"
      ]
     },
     "metadata": {},
     "output_type": "display_data"
    },
    {
     "data": {
      "application/vnd.jupyter.widget-view+json": {
       "model_id": "d82c21f5c25a4a28912669e8d1ad202f",
       "version_major": 2,
       "version_minor": 0
      },
      "text/plain": [
       "tokenizer_config.json:   0%|          | 0.00/350 [00:00<?, ?B/s]"
      ]
     },
     "metadata": {},
     "output_type": "display_data"
    },
    {
     "data": {
      "application/vnd.jupyter.widget-view+json": {
       "model_id": "eecea280fb3043bbb7d5407b3bd9e7ac",
       "version_major": 2,
       "version_minor": 0
      },
      "text/plain": [
       "vocab.txt:   0%|          | 0.00/232k [00:00<?, ?B/s]"
      ]
     },
     "metadata": {},
     "output_type": "display_data"
    },
    {
     "data": {
      "application/vnd.jupyter.widget-view+json": {
       "model_id": "194b26635fca4672980c4868b02acd4c",
       "version_major": 2,
       "version_minor": 0
      },
      "text/plain": [
       "tokenizer.json:   0%|          | 0.00/466k [00:00<?, ?B/s]"
      ]
     },
     "metadata": {},
     "output_type": "display_data"
    },
    {
     "data": {
      "application/vnd.jupyter.widget-view+json": {
       "model_id": "d015758328984c1c90ddeae3daefa2cc",
       "version_major": 2,
       "version_minor": 0
      },
      "text/plain": [
       "special_tokens_map.json:   0%|          | 0.00/112 [00:00<?, ?B/s]"
      ]
     },
     "metadata": {},
     "output_type": "display_data"
    },
    {
     "data": {
      "application/vnd.jupyter.widget-view+json": {
       "model_id": "c06641135a1a461b939991a86dc734ae",
       "version_major": 2,
       "version_minor": 0
      },
      "text/plain": [
       "config.json:   0%|          | 0.00/190 [00:00<?, ?B/s]"
      ]
     },
     "metadata": {},
     "output_type": "display_data"
    },
    {
     "data": {
      "application/vnd.jupyter.widget-view+json": {
       "model_id": "f6b765c893934e998d1cc8c3620aea79",
       "version_major": 2,
       "version_minor": 0
      },
      "text/plain": [
       "Batches:   0%|          | 0/10 [00:00<?, ?it/s]"
      ]
     },
     "metadata": {},
     "output_type": "display_data"
    },
    {
     "data": {
      "application/vnd.jupyter.widget-view+json": {
       "model_id": "d742475ac8e7497389736f6b1cccc376",
       "version_major": 2,
       "version_minor": 0
      },
      "text/plain": [
       "Batches:   0%|          | 0/3 [00:00<?, ?it/s]"
      ]
     },
     "metadata": {},
     "output_type": "display_data"
    },
    {
     "name": "stdout",
     "output_type": "stream",
     "text": [
      "Sentence-BERT + RandomForestRegressor Results\n",
      "R²: 0.39754082457558615\n",
      "RMSE: 1.1820866085021013\n",
      "MAE: 0.9916249999999998\n"
     ]
    }
   ],
   "source": [
    "# Install SentenceTransformers if not already installed\n",
    "#!pip install sentence-transformers\n",
    "\n",
    "# Import necessary libraries\n",
    "from sentence_transformers import SentenceTransformer \n",
    "from sklearn.ensemble import RandomForestRegressor\n",
    "\n",
    "# Load Sentence-BERT model\n",
    "sbert_model = SentenceTransformer('all-MiniLM-L6-v2')  # Lightweight, fast model\n",
    "\n",
    "# Encode training and test sentences\n",
    "X_train_embeddings = sbert_model.encode(X_train.tolist(), show_progress_bar=True)\n",
    "X_test_embeddings = sbert_model.encode(X_test.tolist(), show_progress_bar=True)\n",
    "\n",
    "# Train Random Forest Regressor\n",
    "rf_model = RandomForestRegressor(n_estimators=100, random_state=42)\n",
    "rf_model.fit(X_train_embeddings, y_train)\n",
    "\n",
    "# Predict on test set\n",
    "y_pred_rf = rf_model.predict(X_test_embeddings)\n",
    "\n",
    "# Evaluate model\n",
    "print(\"Sentence-BERT + RandomForestRegressor Results\")\n",
    "print(\"R²:\", r2_score(y_test, y_pred_rf))\n",
    "print(\"RMSE:\", np.sqrt(mean_squared_error(y_test, y_pred_rf)))\n",
    "print(\"MAE:\", mean_absolute_error(y_test, y_pred_rf))"
   ]
  },
  {
   "cell_type": "code",
   "execution_count": 140,
   "metadata": {},
   "outputs": [
    {
     "data": {
      "image/png": "[encoded data removed]",
      "text/plain": [
       "<Figure size 640x480 with 1 Axes>"
      ]
     },
     "metadata": {},
     "output_type": "display_data"
    }
   ],
   "source": [
    "# Plot true vs predicted ratings\n",
    "plt.scatter(y_test, y_pred_rf, alpha=0.6)\n",
    "plt.xlabel(\"True Rating\")\n",
    "plt.ylabel(\"Predicted Rating\")\n",
    "plt.title(\"Sentence-BERT + RandomForest: True vs Predicted Ratings\")\n",
    "plt.grid(True)\n",
    "plt.show()"
   ]
  },
  {
   "cell_type": "markdown",
   "metadata": {},
   "source": [
    "Observations:\n",
    "\n",
    "For higher true ratings (4, 5), the predicted ratings tend to be higher.\n",
    "For lower true ratings (1, 2), the predictions are lower.\n",
    "For true rating 1:\n",
    "Predicted ratings mostly between ~1.7 to ~3.5.\n",
    "The model struggles to predict exactly 1.\n",
    "For true rating 5:\n",
    "Predicted ratings mostly between ~2.9 to ~4.3.\n",
    "The model under-predicts the highest ratings.\n",
    "The model shows regression to the mean behavior:\n",
    "Many predictions cluster around ~2.5 to ~3.5, even for extreme true ratings."
   ]
  },
  {
   "cell_type": "code",
   "execution_count": 209,
   "metadata": {},
   "outputs": [
    {
     "name": "stdout",
     "output_type": "stream",
     "text": [
      "                                      Model        R2      RMSE       MAE\n",
      "0     Sentence-BERT + RandomForestRegressor  0.397541  1.182087  0.991625\n",
      "1                 TF-IDF + Ridge Regression  0.385398  1.193940  1.011651\n",
      "2  TF-IDF + Ridge Regression(preprocessing)  0.385398  1.193940  1.011651\n"
     ]
    }
   ],
   "source": [
    "# Calculate metrics\n",
    "# Sentence-BERT + RandomForestRegressor\n",
    "r2_rf = r2_score(y_test, y_pred_rf)\n",
    "rmse_rf = np.sqrt(mean_squared_error(y_test, y_pred_rf))\n",
    "mae_rf = mean_absolute_error(y_test, y_pred_rf)\n",
    "\n",
    "# TF-IDF + Ridge Regression\n",
    "r2_ridge = r2_score(y_test, y_pred)\n",
    "rmse_ridge = np.sqrt(mean_squared_error(y_test, y_pred))\n",
    "mae_ridge = mean_absolute_error(y_test, y_pred)\n",
    "\n",
    "\n",
    "# TF-IDF + Ridge (with preprocessing) Results\n",
    "r2_ridge_preprocessing = r2_score(y_test, y_pred)\n",
    "rmse_ridge_preprocessing = np.sqrt(mean_squared_error(y_test, y_pred))\n",
    "mae_ridge_preprocessing = mean_absolute_error(y_test, y_pred)\n",
    "\n",
    "# Create DataFrame\n",
    "results_df = pd.DataFrame({\n",
    "    'Model': ['Sentence-BERT + RandomForestRegressor', 'TF-IDF + Ridge Regression', 'TF-IDF + Ridge Regression(preprocessing)'],\n",
    "    'R2': [r2_rf, r2_ridge, r2_ridge_preprocessing],\n",
    "    'RMSE': [rmse_rf, rmse_ridge, rmse_ridge_preprocessing],\n",
    "    'MAE': [mae_rf, mae_ridge, mae_ridge_preprocessing]\n",
    "})\n",
    "\n",
    "# Display DataFrame\n",
    "print(results_df)"
   ]
  },
  {
   "cell_type": "markdown",
   "metadata": {},
   "source": []
  },
  {
   "cell_type": "code",
   "execution_count": 205,
   "metadata": {},
   "outputs": [],
   "source": [
    "#!pip install transformers datasets\n"
   ]
  },
  {
   "cell_type": "code",
   "execution_count": 211,
   "metadata": {},
   "outputs": [
    {
     "data": {
      "image/png": "[encoded data removed]",
      "text/plain": [
       "<Figure size 600x500 with 2 Axes>"
      ]
     },
     "metadata": {},
     "output_type": "display_data"
    }
   ],
   "source": [
    "from sklearn.metrics import confusion_matrix\n",
    "import seaborn as sns\n",
    "\n",
    "# Round predictions to nearest integer between 1 and 5\n",
    "y_pred_rounded = np.clip(np.round(y_pred), 1, 5)\n",
    "\n",
    "# Confusion matrix\n",
    "cm = confusion_matrix(y_test, y_pred_rounded, labels=[1, 2, 3, 4, 5])\n",
    "\n",
    "# Plot confusion matrix\n",
    "plt.figure(figsize=(6,5))\n",
    "sns.heatmap(cm, annot=True, fmt='d', cmap='Blues',\n",
    "            xticklabels=[1,2,3,4,5],\n",
    "            yticklabels=[1,2,3,4,5])\n",
    "plt.xlabel(\"Predicted Rating\")\n",
    "plt.ylabel(\"True Rating\")\n",
    "plt.title(\"Confusion Matrix (Rounded Ratings)\")\n",
    "plt.show()"
   ]
  },
  {
   "cell_type": "markdown",
   "metadata": {},
   "source": [
    "**Ratings 1 and 2:**\n",
    "True rating 1 → 14 predicted as 2, 7 as 3 → model struggles to predict 1-star correctly. Only 1 correctly predicted as 1.\n",
    "\n",
    "The model tends to underestimate how bad the review is.\n",
    "\n",
    "True rating 2 → 8 predicted as 2 → this is decent.\n",
    "\n",
    "But 8 predicted as 3 → confused between 2 and 3.\n",
    "\n",
    "👉 Conclusion → Model struggles to predict very low ratings (1, 2). Tends to shift them toward the middle (3).\n",
    "\n",
    "**Ratings 3:**\n",
    "True rating 3 → 8 predicted correctly.\n",
    "\n",
    "2 predicted as 4 → some tendency to slightly overpredict.\n",
    "\n",
    "👉 Conclusion → Model is reasonably accurate at predicting 3-star reviews.\n",
    "\n",
    "**Ratings 4:**\n",
    "True rating 4 → 6 correctly predicted as 4.\n",
    "\n",
    "5 predicted as 3 → tendency to underpredict 4-star reviews a bit.\n",
    "\n",
    "**Ratings 5:**\n",
    "True rating 5 → only 2 predicted correctly.\n",
    "\n",
    "10 predicted as 3, 6 as 4 → model strongly underpredicts 5-star reviews.\n",
    "\n",
    "👉 Conclusion → Model struggles with 5-star reviews — tends to push them toward 3 or 4."
   ]
  }
 ],
 "metadata": {
  "kernelspec": {
   "display_name": "Python [conda env:anaconda3] *",
   "language": "python",
   "name": "conda-env-anaconda3-py"
  },
  "language_info": {
   "codemirror_mode": {
    "name": "ipython",
    "version": 3
   },
   "file_extension": ".py",
   "mimetype": "text/x-python",
   "name": "python",
   "nbconvert_exporter": "python",
   "pygments_lexer": "ipython3",
   "version": "3.11.5"
  }
 },
 "nbformat": 4,
 "nbformat_minor": 4
}
